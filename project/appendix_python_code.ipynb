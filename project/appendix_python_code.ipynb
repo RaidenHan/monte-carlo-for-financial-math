{
 "cells": [
  {
   "cell_type": "code",
   "execution_count": 1,
   "id": "d0ec73e5",
   "metadata": {},
   "outputs": [],
   "source": [
    "import numpy as np\n",
    "import cupy as cp\n",
    "\n",
    "cp.random.seed(415)"
   ]
  },
  {
   "cell_type": "code",
   "execution_count": 2,
   "id": "27ac4dc4",
   "metadata": {},
   "outputs": [],
   "source": [
    "def reinforce_function(func, n, *args):\n",
    "    \"\"\" Repeat a function with certain parameters several times and return the\n",
    "    mean result\n",
    "\n",
    "    Parameters\n",
    "    ----------\n",
    "    func : function\n",
    "        The function to be repeated\n",
    "    n : int\n",
    "        The repeating time\n",
    "    args : tuple\n",
    "        The parameters for the function\n",
    "\n",
    "    Returns\n",
    "    -------\n",
    "    mean_value : float\n",
    "        The mean value of n times running\n",
    "    \"\"\"\n",
    "\n",
    "    n = int(n)\n",
    "    value = []\n",
    "    for i in range(n):\n",
    "        value.append(func(*args))\n",
    "    value = cp.array(value)\n",
    "    mean_value = cp.mean(value, axis=0)\n",
    "\n",
    "    return mean_value\n"
   ]
  },
  {
   "cell_type": "markdown",
   "id": "6d109c8b",
   "metadata": {},
   "source": [
    "# Parameters"
   ]
  },
  {
   "cell_type": "code",
   "execution_count": 3,
   "id": "f9522a24",
   "metadata": {},
   "outputs": [],
   "source": [
    "unis_stock = 0.05  # Unissued stock options' ratio\n",
    "sigma = 0.9  # Volatility\n",
    "lam = 0.25  # Exit rate\n",
    "rf = 0.025  # Risk-free rate"
   ]
  },
  {
   "cell_type": "markdown",
   "id": "8daf3ea2",
   "metadata": {},
   "source": [
    "# Baseline Scenario"
   ]
  },
  {
   "cell_type": "code",
   "execution_count": 4,
   "id": "d1bed998",
   "metadata": {},
   "outputs": [],
   "source": [
    "def baseline_valuation(n, x0, unis_stock, sigma, lam, rf):\n",
    "    # Convert the simulation size into an integer\n",
    "    n = int(n)\n",
    "    # Initialize parameters of the asset\n",
    "    pa, pb, ia, ib = 450 * (1 - unis_stock), 1000 * (1 - unis_stock), 50, 100\n",
    "    # Calculate the holding ratios for all investors\n",
    "    rb = ib / pb  # Series B Investor\n",
    "    ra = (1 - rb) * ia / pa  # Series A Investor\n",
    "    nc = pb - ib - ib / rb * ra  # Number of Common shares\n",
    "    # Generate random variables\n",
    "    t = cp.random.exponential(1 / lam, size=n)\n",
    "    z = cp.random.normal(size=n)\n",
    "    # Calculate the exit value\n",
    "    xt = x0 * cp.exp((rf - sigma ** 2 / 2) * t + sigma * cp.sqrt(t) * z)\n",
    "    # Calculate the payout to the new investor\n",
    "    fb_ipo = xt * rb\n",
    "    fb_mna = cp.maximum(cp.minimum(ib * xt / (ia + ib), ib), xt * rb)\n",
    "    # Calculate the payout to common shareholders\n",
    "    fc_ipo = xt * (1 - ra - rb)\n",
    "    fa_mna = cp.maximum(cp.minimum(ia * xt / (ia + ib), ia), xt * ra)\n",
    "    fc_mna = xt - fb_mna - fa_mna\n",
    "    # Calculate the proability of an IPO\n",
    "    p_ipo = cp.ones(n)\n",
    "    p_ipo[xt <= 32] = 0\n",
    "    p_ipo[(xt > 32) & (xt <= 1000)] = 0.65 * (\n",
    "        cp.log(xt[(xt > 32) & (xt <= 1000)] / 32)) / (cp.log(1000 / 32))\n",
    "    p_ipo[(xt > 1000) & (xt <= 100000)] = 0.65 + 0.2 * (\n",
    "        cp.log(xt[(xt > 1000) & (xt <= 100000)] / 1000)) / (cp.log(100))\n",
    "    # Generate the outcomes\n",
    "    outcome_b = p_ipo * fb_ipo + (1 - p_ipo) * fb_mna\n",
    "    outcome_c = p_ipo * fc_ipo + (1 - p_ipo) * fc_mna\n",
    "    eob = cp.mean(cp.exp(-rf * t) * outcome_b)\n",
    "    eoec = cp.mean(cp.exp(-rf * t) * outcome_c) / nc\n",
    "\n",
    "    return eob, eoec\n"
   ]
  },
  {
   "cell_type": "code",
   "execution_count": 5,
   "id": "2e8f4755",
   "metadata": {},
   "outputs": [
    {
     "name": "stdout",
     "output_type": "stream",
     "text": [
      "The fair investment for Series B investor: $100m\n",
      "The fair value of common shares: $0.78\n"
     ]
    }
   ],
   "source": [
    "# Output the results\n",
    "x0 = 771\n",
    "print(\"The fair investment for Series B investor: ${:.0f}m\\n\"\n",
    "      \"The fair value of common shares: ${:.2f}\".format(\n",
    "      *reinforce_function(baseline_valuation,\n",
    "                          1e3, 1e7, x0, unis_stock, sigma, lam, rf)))"
   ]
  },
  {
   "cell_type": "markdown",
   "id": "bdbae821",
   "metadata": {},
   "source": [
    "# Automatic Conversion Veto Scenario"
   ]
  },
  {
   "cell_type": "code",
   "execution_count": 6,
   "id": "5aebd1e4",
   "metadata": {},
   "outputs": [],
   "source": [
    "def auto_conv_veto_valuation(n, x0, unis_stock, sigma, lam, rf, acv_rate):\n",
    "    # Convert the simulation size into an integer\n",
    "    n = int(n)\n",
    "    # Initialize parameters of the asset\n",
    "    pa, pb, ia, ib = 450 * (1 - unis_stock), 1000 * (1 - unis_stock), 50, 100\n",
    "    # Calculate the holding ratios for all investors\n",
    "    rb = ib / pb  # Series B Investor\n",
    "    ra = (1 - rb) * ia / pa  # Series A Investor\n",
    "    nc = pb - ib - ib / rb * ra  # Number of Common shares\n",
    "    # Generate random variables\n",
    "    t = cp.random.exponential(1 / lam, size=n)\n",
    "    z = cp.random.normal(size=n)\n",
    "    # Calculate the exit value\n",
    "    xt = x0 * cp.exp((rf - sigma ** 2 / 2) * t + sigma * cp.sqrt(t) * z)\n",
    "    # Calculate the payout to the new investor\n",
    "    fb_mna = cp.maximum(cp.minimum(ib * xt / (ia + ib), ib), xt * rb)\n",
    "    fb_ipo = cp.where(fb_mna > acv_rate * xt * rb, fb_mna, xt * rb)\n",
    "    # Calculate the payout to common shareholders\n",
    "    fa_mna = cp.maximum(cp.minimum(ia * xt / (ia + ib), ia), xt * ra)\n",
    "    fa_ipo = cp.where(fa_mna > acv_rate * xt * ra, fa_mna, xt * ra)\n",
    "    fc_mna = xt - fb_mna - fa_mna\n",
    "    fc_ipo = xt - fb_ipo - fa_ipo\n",
    "    # Calculate the proability of an IPO\n",
    "    p_ipo = cp.ones(n)\n",
    "    p_ipo[xt <= 32] = 0\n",
    "    p_ipo[(xt > 32) & (xt <= 1000)] = 0.65 * (\n",
    "        cp.log(xt[(xt > 32) & (xt <= 1000)] / 32)) / (cp.log(1000 / 32))\n",
    "    p_ipo[(xt > 1000) & (xt <= 100000)] = 0.65 + 0.2 * (\n",
    "        cp.log(xt[(xt > 1000) & (xt <= 100000)] / 1000)) / (cp.log(100))\n",
    "    # Generate the outcomes\n",
    "    outcome_b = p_ipo * fb_ipo + (1 - p_ipo) * fb_mna\n",
    "    outcome_c = p_ipo * fc_ipo + (1 - p_ipo) * fc_mna\n",
    "    eob = cp.mean(cp.exp(-rf * t) * outcome_b)\n",
    "    eoec = cp.mean(cp.exp(-rf * t) * outcome_c) / nc\n",
    "\n",
    "    return eob, eoec\n"
   ]
  },
  {
   "cell_type": "code",
   "execution_count": 7,
   "id": "0d74a898",
   "metadata": {},
   "outputs": [
    {
     "name": "stdout",
     "output_type": "stream",
     "text": [
      "The fair investment for Series B investor: $100m\n",
      "The fair value of common shares: $0.63\n"
     ]
    }
   ],
   "source": [
    "# Output the results\n",
    "x0 = 651\n",
    "acv_rate = 0.75\n",
    "print(\"The fair investment for Series B investor: ${:.0f}m\\n\"\n",
    "      \"The fair value of common shares: ${:.2f}\".format(\n",
    "      *reinforce_function(auto_conv_veto_valuation,\n",
    "                          1e3, 1e7, x0, unis_stock, sigma, lam, rf, acv_rate)))"
   ]
  }
 ],
 "metadata": {
  "kernelspec": {
   "display_name": "Python 3 (ipykernel)",
   "language": "python",
   "name": "python3"
  },
  "language_info": {
   "codemirror_mode": {
    "name": "ipython",
    "version": 3
   },
   "file_extension": ".py",
   "mimetype": "text/x-python",
   "name": "python",
   "nbconvert_exporter": "python",
   "pygments_lexer": "ipython3",
   "version": "3.10.4"
  }
 },
 "nbformat": 4,
 "nbformat_minor": 5
}
