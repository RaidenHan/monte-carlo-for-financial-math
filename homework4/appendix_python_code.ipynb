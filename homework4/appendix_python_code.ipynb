{
 "cells": [
  {
   "cell_type": "code",
   "execution_count": 1,
   "id": "d0ec73e5",
   "metadata": {},
   "outputs": [],
   "source": [
    "import numpy as np\n",
    "import cupy as cp\n",
    "from cupyx.scipy.special import ndtr\n",
    "\n",
    "cp.random.seed(412)"
   ]
  },
  {
   "cell_type": "code",
   "execution_count": 2,
   "id": "27ac4dc4",
   "metadata": {},
   "outputs": [],
   "source": [
    "def reinforce_function(func, n, *args):\n",
    "    \"\"\" Repeat a function with certain parameters several times and return the\n",
    "    mean result\n",
    "\n",
    "    Parameters\n",
    "    ----------\n",
    "    func : function\n",
    "        The function to be repeated\n",
    "    n : int\n",
    "        The repeating time\n",
    "    args : tuple\n",
    "        The parameters for the function\n",
    "\n",
    "    Returns\n",
    "    -------\n",
    "    mean_value : float\n",
    "        The mean value of n times running\n",
    "    \"\"\"\n",
    "\n",
    "    value = []\n",
    "    for i in range(n):\n",
    "        value.append(func(*args))\n",
    "    value = cp.array(value)\n",
    "    mean_value = cp.mean(value, axis=0).item()\n",
    "    \n",
    "    return mean_value\n"
   ]
  },
  {
   "cell_type": "markdown",
   "id": "8daf3ea2",
   "metadata": {},
   "source": [
    "# Problem 1"
   ]
  },
  {
   "cell_type": "code",
   "execution_count": 3,
   "id": "d1bed998",
   "metadata": {},
   "outputs": [],
   "source": [
    "def basket_cds(n, s):\n",
    "    \"\"\"\n",
    "\n",
    "    Parameters\n",
    "    ----------\n",
    "    n : int or float\n",
    "        The simulation size\n",
    "    s : float\n",
    "        The annual protection payment for the CDS\n",
    "\n",
    "    Returns\n",
    "    -------\n",
    "    v : float\n",
    "        The simulated present value of the CDS\n",
    "\n",
    "    \"\"\"\n",
    "\n",
    "    # Convert the simulation size into an integer\n",
    "    n = int(n)\n",
    "    # Initialize parameters of the contract and assets\n",
    "    r, t = 0.03, 5\n",
    "    default_int = cp.array([0.05, 0.01, 0.05, 0.05, 0.01, 0.1, 0.01, 0.09,\n",
    "                            0.1, 0.02]).reshape(10, -1)\n",
    "    recov_rate = cp.array([0.1, 0.1, 0.3, 0.1, 0.3, 0.1, 0.2, 0.2,\n",
    "                           0.1, 0.1]).reshape(10, -1)\n",
    "    # Define parameters for the multivariate normal distribution\n",
    "    cov = cp.full((10, 10), 0.2)\n",
    "    cp.fill_diagonal(cov, 1)\n",
    "    # Use the Cholesky decomposition to derive the transformation matrix\n",
    "    a = cp.linalg.cholesky(cov)\n",
    "    # Generate the correlated normal random variables\n",
    "    z = cp.random.normal(size=(10, n))\n",
    "    x = cp.dot(a, z)\n",
    "    # Use the antithetic method to reduce the variance\n",
    "    x = cp.hstack((x, -x))\n",
    "    # Calculate the default time\n",
    "    tau = -cp.log(1 - ndtr(x)) / default_int.reshape((10, 1))\n",
    "    # Select samples with the fifth default time less than 5 years\n",
    "    tau_rank_ind = cp.argsort(tau, axis=0)\n",
    "    tau_5 = tau[tau_rank_ind[4, :], range(2 * n)]\n",
    "    tau_5_bool = tau_5 <= t\n",
    "    # Calculate the possible income for CDS holders\n",
    "    v_value = cp.zeros(2 * n)\n",
    "    v_value[tau_5_bool] = ((1 - recov_rate[tau_rank_ind[4, tau_5_bool]]).T *\n",
    "                           cp.exp(-r * tau_5[tau_5_bool])).ravel()\n",
    "    # Calculate the discounted payments\n",
    "    payments = [s * cp.exp(-r * (i + 1)).get() for i in range(t)]\n",
    "    cum_payments = cp.cumsum(cp.array([0] + payments))\n",
    "    payments = cp.array(payments)\n",
    "    # Find the last complete payment when the CDS is triggered\n",
    "    frac_t, comp_t = cp.modf(tau_5[tau_5_bool])\n",
    "    comp_t = comp_t.astype('int')\n",
    "    # Calculate the outcome for CDS holders\n",
    "    v_port = cp.full(2 * n, cp.sum(payments))\n",
    "    v_port[tau_5_bool] = cum_payments[comp_t] + payments[comp_t] * frac_t * \\\n",
    "                         cp.exp(-r * tau_5[tau_5_bool])\n",
    "    # Calculate the CDS's value\n",
    "    v = v_value - v_port\n",
    "    ev = cp.mean(v)\n",
    "\n",
    "    return ev\n"
   ]
  },
  {
   "cell_type": "code",
   "execution_count": 4,
   "id": "2e8f4755",
   "metadata": {},
   "outputs": [
    {
     "name": "stdout",
     "output_type": "stream",
     "text": [
      "The fair value of the CDS is $0.0000.\n"
     ]
    }
   ],
   "source": [
    "# Output the results\n",
    "print(\"The fair value of the CDS is ${:.4f}.\".format(\n",
    "    reinforce_function(basket_cds, 100, 1e6, .01421)))"
   ]
  },
  {
   "cell_type": "markdown",
   "id": "bdbae821",
   "metadata": {},
   "source": [
    "# Problem 2"
   ]
  },
  {
   "cell_type": "code",
   "execution_count": 5,
   "id": "4f578081",
   "metadata": {},
   "outputs": [],
   "source": [
    "def startup_valuation(n, x0):\n",
    "    # Convert the simulation size into an integer\n",
    "    n = int(n)\n",
    "    # Initialize parameters of the asset\n",
    "    pa, pb, ia, ib = 450, 1000, 50, 100\n",
    "    r, sigma = 0.025, 0.9\n",
    "    # Generate random variables\n",
    "    u = cp.random.uniform(size=n)\n",
    "    t = 6 * cp.sqrt(u)\n",
    "    z = cp.random.normal(size=n)\n",
    "    # Calculate the exit value\n",
    "    xt = x0 * cp.exp((r - sigma ** 2 / 2) * t + sigma * cp.sqrt(t) * z)\n",
    "    # Calculate the payout to Series B investors\n",
    "    outcome = cp.where(xt < 1000,\n",
    "                       cp.maximum(cp.minimum((ib / (ia + ib)) * xt, ib),\n",
    "                                  xt * ib / pb),\n",
    "                       xt * ib / pb)\n",
    "    eo = cp.mean(cp.exp(-r * t) * outcome).item()\n",
    "\n",
    "    return eo\n"
   ]
  },
  {
   "cell_type": "code",
   "execution_count": 6,
   "id": "9be1218f",
   "metadata": {},
   "outputs": [
    {
     "name": "stdout",
     "output_type": "stream",
     "text": [
      "The fair investment for Series B investor is $100.00.\n",
      "The overvaluation is 48.70%.\n"
     ]
    }
   ],
   "source": [
    "# Output the results\n",
    "print(\"The fair investment for Series B investor is ${:.2f}.\".format(\n",
    "    reinforce_function(startup_valuation, 1000, 1e7, 672.52)))\n",
    "print(\"The overvaluation is {:.2%}.\".format((1000 - 672.5) / 672.5))"
   ]
  }
 ],
 "metadata": {
  "kernelspec": {
   "display_name": "Python 3 (ipykernel)",
   "language": "python",
   "name": "python3"
  },
  "language_info": {
   "codemirror_mode": {
    "name": "ipython",
    "version": 3
   },
   "file_extension": ".py",
   "mimetype": "text/x-python",
   "name": "python",
   "nbconvert_exporter": "python",
   "pygments_lexer": "ipython3",
   "version": "3.10.4"
  }
 },
 "nbformat": 4,
 "nbformat_minor": 5
}
