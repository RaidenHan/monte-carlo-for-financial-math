{
 "cells": [
  {
   "cell_type": "code",
   "execution_count": 1,
   "id": "2bf71660",
   "metadata": {},
   "outputs": [],
   "source": [
    "import numpy as np\n",
    "\n",
    "np.random.seed(204)"
   ]
  },
  {
   "cell_type": "markdown",
   "id": "f1dc17b6",
   "metadata": {},
   "source": [
    "# Problem 2"
   ]
  },
  {
   "cell_type": "code",
   "execution_count": 2,
   "id": "8d0b5da4",
   "metadata": {},
   "outputs": [],
   "source": [
    "def arcc_price(c, n):\n",
    "    \"\"\" Calculate the value of an autocallable reverse convertible contract\n",
    "    using the Monte-Carlo method\n",
    "\n",
    "    Parameters\n",
    "    ----------\n",
    "    c : float\n",
    "        The annual coupon\n",
    "    n : int\n",
    "        The number of simulations\n",
    "\n",
    "    Returns\n",
    "    -------\n",
    "    ev : float\n",
    "        The simulated value of the contract\n",
    "\n",
    "    \"\"\"\n",
    "\n",
    "    # Initialize the parameters of the contract\n",
    "    s0, r, sigma, k, t, m, i0 = 100, 0.04, 0.3, 55, 1, 4, 2\n",
    "    # Calculate the coupon at each payment\n",
    "    ci = c * t / m\n",
    "    # Calculate the time interval\n",
    "    h = t / m\n",
    "    # Simulate the stock prices\n",
    "    s_normal = np.random.normal(size=(m, n))\n",
    "    stock_price = np.exp((r - sigma ** 2 / 2) * h +\n",
    "                         sigma * np.sqrt(h) * s_normal)\n",
    "    stock_price = np.cumprod(stock_price, axis=0) * s0\n",
    "    # Calculate tau\n",
    "    tau = stock_price[i0 - 1:, :] >= s0\n",
    "    tau = np.where(tau.any(axis=0), tau.argmax(axis=0) + i0, m)\n",
    "    # Calculate the no-arbitrage price of the contract\n",
    "    # Calculate the coupon for different tau's\n",
    "    coupon = np.array([np.exp(-r * i * h) * ci for i in range(1, m + 1)])\n",
    "    coupon = np.cumsum(coupon)\n",
    "    # Calculate the price for each simulation\n",
    "    v = coupon[tau - 1] + np.where(\n",
    "        tau < m, np.exp(-r * tau * h) * s0, np.exp(-r * t) * np.where(\n",
    "            stock_price[-1, :] > k, s0, stock_price[-1, :]))\n",
    "    # Calculate the mean\n",
    "    ev = np.mean(v)\n",
    "\n",
    "    return ev\n"
   ]
  },
  {
   "cell_type": "code",
   "execution_count": 3,
   "id": "96a938f3",
   "metadata": {},
   "outputs": [
    {
     "name": "stdout",
     "output_type": "stream",
     "text": [
      "The contract price when c = 5.64%: 100.00\n"
     ]
    }
   ],
   "source": [
    "# Print the result\n",
    "print('The contract price when c = 5.64%: {:.2f}'.format(\n",
    "    arcc_price(5.64, int(1e8))))"
   ]
  },
  {
   "cell_type": "markdown",
   "id": "b395960a",
   "metadata": {},
   "source": [
    "# Problem 3"
   ]
  },
  {
   "cell_type": "code",
   "execution_count": 4,
   "id": "29c1f737",
   "metadata": {},
   "outputs": [],
   "source": [
    "def reinforce_function(func, n, *args):\n",
    "    \"\"\" Repeat a function with certain parameters several times and return the\n",
    "    mean result\n",
    "\n",
    "    Parameters\n",
    "    ----------\n",
    "    func : function\n",
    "        The function to be repeated\n",
    "    n : int\n",
    "        The repeating time\n",
    "    args : tuple\n",
    "        The parameters for the function\n",
    "\n",
    "    Returns\n",
    "    -------\n",
    "    mean_value : float\n",
    "        The mean value of n times running\n",
    "    \"\"\"\n",
    "\n",
    "    value = []\n",
    "    for i in range(n):\n",
    "        value.append(func(*args))\n",
    "    mean_value = np.mean(value)\n",
    "\n",
    "    return mean_value\n"
   ]
  },
  {
   "cell_type": "code",
   "execution_count": 5,
   "id": "f0ad48ce",
   "metadata": {},
   "outputs": [],
   "source": [
    "def loc_vol_option(step, n):\n",
    "    \"\"\"Calculate the option price when the stock price follows a local\n",
    "    volatility model\n",
    "\n",
    "    Parameters\n",
    "    ----------\n",
    "    step : int\n",
    "        The number of steps to calculate the SDE in each simulation\n",
    "    n : int\n",
    "        The number of simulations\n",
    "\n",
    "    Returns\n",
    "    -------\n",
    "    ec : float\n",
    "        The fair value of the call option at present\n",
    "    \"\"\"\n",
    "\n",
    "    # Initialize the parameters of the contract and the stock\n",
    "    s0, k, r, t = 100, 110, 0.05, 1\n",
    "    delta = t / step\n",
    "\n",
    "    # Define the function for calculating volatility\n",
    "    def sigma(st, t):\n",
    "        return np.power((100 / st), 0.3) / (2 * np.exp(t))\n",
    "\n",
    "    # Generate standard normal random variables\n",
    "    z = np.random.normal(size=(n, step))\n",
    "    # Initialize a container to store the price\n",
    "    s = np.zeros(shape=(n, step + 1))\n",
    "    s[:, 0] = s0\n",
    "    # Use the Euler Scheme to simulate the SDE\n",
    "    for i in range(step):\n",
    "        s[:, i + 1] = (1 + r * delta) * s[:, i] + sigma(s[:, i], i * delta) * \\\n",
    "                      s[:, i] * np.sqrt(delta) * z[:, i]\n",
    "    # Calculate the mean of expected values\n",
    "    c = np.maximum(s[:, step] - k, 0)\n",
    "    ec = np.mean(c) * np.exp(-r * t)\n",
    "\n",
    "    return ec\n"
   ]
  },
  {
   "cell_type": "code",
   "execution_count": 6,
   "id": "6d2a38c8",
   "metadata": {},
   "outputs": [
    {
     "name": "stdout",
     "output_type": "stream",
     "text": [
      "Option Price: 11.0\n"
     ]
    }
   ],
   "source": [
    "# Print the result\n",
    "print('Option Price: {:.1f}'.format(\n",
    "    reinforce_function(loc_vol_option, 10, 252, int(1e6))))"
   ]
  },
  {
   "cell_type": "markdown",
   "id": "96e2f61f",
   "metadata": {},
   "source": [
    "# Problem 4"
   ]
  },
  {
   "cell_type": "code",
   "execution_count": 7,
   "id": "521ce8c1",
   "metadata": {},
   "outputs": [],
   "source": [
    "def lookback_call_option(m, step, n):\n",
    "    \"\"\"\n",
    "\n",
    "    Parameters\n",
    "    ----------\n",
    "    m : int\n",
    "        The number of time intervals for observation\n",
    "    step : int\n",
    "        The number of steps between two observation points in each simulation\n",
    "    n : int\n",
    "        The number of simulations\n",
    "\n",
    "    Returns\n",
    "    -------\n",
    "    ec : float\n",
    "        The fair value of the call option at present\n",
    "    \"\"\"\n",
    "\n",
    "    # Initialize parameters for stock prices\n",
    "    s0, v0, r, kappa, theta, sigma_v, rho = 100, 0.04, 0.03, 2, 0.04, 0.5, -0.7\n",
    "    # Initialize parameters for the option\n",
    "    t, k = 0.5, 120\n",
    "    # Calculate total steps and time intervals\n",
    "    n_step = m * step\n",
    "    delta = t / n_step\n",
    "    # Generate standard normal random variables\n",
    "    z1, z2 = np.random.normal(size=(2, n, n_step))\n",
    "    # Using Cholesky decomposition to generate correlated normal r.v.s\n",
    "    zv, zs = z1, rho * z1 + np.sqrt(1 - rho ** 2) * z2\n",
    "    # Initialize containers to store volatility's and prices\n",
    "    v = np.zeros(shape=(n, n_step + 1))\n",
    "    s = np.zeros(shape=(n, n_step + 1))\n",
    "    v[:, 0] = v0\n",
    "    s[:, 0] = s0\n",
    "    # Use the Euler Scheme to simulate the SDE\n",
    "    for i in range(n_step):\n",
    "        v[:, i + 1] = v[:, i] + kappa * (theta - np.maximum(v[:, i], 0)) * \\\n",
    "            delta + sigma_v * np.sqrt(\n",
    "            np.maximum(v[:, i], 0) * delta) * zv[:, i]\n",
    "        s[:, i + 1] = s[:, i] * np.exp((r - v[:, i] / 2) * delta + np.sqrt(\n",
    "            np.maximum(v[:, i], 0) * delta) * zs[:, i])\n",
    "    # Calculate observation indices\n",
    "    observation_index = [i * step for i in range(1, m + 1)]\n",
    "    # Calculate the option's price\n",
    "    c = np.max(np.maximum(s[:, observation_index] - k, 0), axis=1)\n",
    "    ec = np.mean(c) * np.exp(-r * t)\n",
    "\n",
    "    return ec\n"
   ]
  },
  {
   "cell_type": "code",
   "execution_count": 8,
   "id": "4bb79799",
   "metadata": {},
   "outputs": [
    {
     "name": "stdout",
     "output_type": "stream",
     "text": [
      "Option Price when m = 3: 0.3\n",
      "Option Price when m = 6: 0.3\n",
      "Option Price when m = 12: 0.3\n"
     ]
    }
   ],
   "source": [
    "# Print the result\n",
    "print('Option Price when m = 3: {:.1f}'.format(\n",
    "    lookback_call_option(3, 84, int(1e6))))\n",
    "print('Option Price when m = 6: {:.1f}'.format(\n",
    "    lookback_call_option(6, 42, int(1e6))))\n",
    "print('Option Price when m = 12: {:.1f}'.format(\n",
    "    lookback_call_option(12, 21, int(1e6))))"
   ]
  },
  {
   "cell_type": "markdown",
   "id": "30f49576",
   "metadata": {},
   "source": [
    "# Problem 5"
   ]
  },
  {
   "cell_type": "code",
   "execution_count": 9,
   "id": "3dfce575",
   "metadata": {},
   "outputs": [],
   "source": [
    "def reset_strike_option(step, n):\n",
    "    \"\"\"Calculate the reset strike option of call type price when the stock\n",
    "    price follows a variance gamma process\n",
    "\n",
    "    Parameters\n",
    "    ----------\n",
    "    step : int\n",
    "        The number of steps to calculate the SDE in each simulation\n",
    "    n : int\n",
    "        The number of simulations\n",
    "\n",
    "    Returns\n",
    "    -------\n",
    "    ec : float\n",
    "        The fair value of the reset strike option at present\n",
    "    \"\"\"\n",
    "    # Initialize parameters for stock prices\n",
    "    theta, sigma, nu, s0, r, delta = -0.1, 0.2, 0.2, 100, 0.03, 0\n",
    "    # Initialize parameters for the option\n",
    "    k, t1, t2 = 100, 0.25, 0.5\n",
    "    # Calculate the time interval and omega\n",
    "    h = t2 / step\n",
    "    omega = np.log(1 - theta * nu - sigma ** 2 * nu / 2) / nu\n",
    "    # Generate standard normal random variables and gamma random variables\n",
    "    z = np.random.normal(size=(n, step))\n",
    "    g = np.random.gamma(shape=h / nu, scale=nu, size=(n, step))\n",
    "    x = theta * g + sigma * np.sqrt(g) * z\n",
    "    # Initialize a container to store stock prices\n",
    "    s = np.zeros(shape=(n, step + 1))\n",
    "    s[:, 0] = s0\n",
    "    # Simulate the stock price\n",
    "    for i in range(step):\n",
    "        s[:, i + 1] = s[:, i] * np.exp((r - delta + omega) * h + x[:, i])\n",
    "    # Calculate the reset date index\n",
    "    reset_index = int(np.round(step * t1 / t2))\n",
    "    # Calculate the mean of expected payoffs\n",
    "    c = np.maximum(s[:, step] - np.minimum(k, s[:, reset_index]), 0)\n",
    "    ec = np.mean(c) * np.exp(-r * t2)\n",
    "\n",
    "    return ec\n"
   ]
  },
  {
   "cell_type": "code",
   "execution_count": 10,
   "id": "8e502ced",
   "metadata": {},
   "outputs": [
    {
     "name": "stdout",
     "output_type": "stream",
     "text": [
      "Option Price: 7.11\n"
     ]
    }
   ],
   "source": [
    "# Print the result\n",
    "print('Option Price: {:.2f}'.format(\n",
    "    reinforce_function(reset_strike_option, 100, 1638, int(1e5))))"
   ]
  }
 ],
 "metadata": {
  "kernelspec": {
   "display_name": "Python 3 (ipykernel)",
   "language": "python",
   "name": "python3"
  },
  "language_info": {
   "codemirror_mode": {
    "name": "ipython",
    "version": 3
   },
   "file_extension": ".py",
   "mimetype": "text/x-python",
   "name": "python",
   "nbconvert_exporter": "python",
   "pygments_lexer": "ipython3",
   "version": "3.8.8"
  }
 },
 "nbformat": 4,
 "nbformat_minor": 5
}
